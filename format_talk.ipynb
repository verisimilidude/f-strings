{
 "cells": [
  {
   "cell_type": "markdown",
   "metadata": {},
   "source": [
    "# New formatting in Python 3.6\n",
    "\n",
    "## A talk by Phil Robare\n",
    "\n",
    "## Chipy meeting, March 8, 2018\n",
    "\n",
    "There are a variety of ways to format a string for output in Python.  To motivate this discussion I will use the example of a phone number field that for some reason consists of just the digits to dial.  You want to print this out in the format we are used to with three digits for the slash, three digits for the exchange and four digits for the line number.\n",
    "\n",
    "By the way, I am currently looking for a job and you might notice during the presentation that I have subtly made a mention of that in some of the code examples.  But if you don't notice it that's fine.\n",
    "\n",
    "So lets look at how Python can format output.\n",
    "\n",
    "At its core, and existing in Python since the beginning, are the built-in's `str()` and `repr()`.  The difference is `str()` gives you a nice looking string and `repr()` gives you something that (possibly) can be ingested by the interpreter to give you a copy of the object.  With Unicode support in Python 3.0 we got a way to go from a string back to a unicode format.  It is sort-of the opposite of 2.x's 'unicode()' built-in.\n",
    "\n",
    "Note that all these work by calling dunder (double_underscore) methods defined in the Object class that all objects descend from."
   ]
  },
  {
   "cell_type": "code",
   "execution_count": 144,
   "metadata": {},
   "outputs": [
    {
     "name": "stdout",
     "output_type": "stream",
     "text": [
      "call Phil at 773/989-7978 and offеr him a job.\n",
      "0\n",
      "'call Phil at 773/989-7978 and off\\u0435r him a job.'\n",
      "\n",
      "0\n",
      "'call Phil at 773/989-7978 and offеr him a job.'\n"
     ]
    }
   ],
   "source": [
    "n = 0\n",
    "plea = \"call Phil at 773/989-7978 and off\\u0435r him a job.\"\n",
    "\n",
    "print(str(plea))\n",
    "print(repr(n))\n",
    "print(ascii(plea))\n",
    "print()\n",
    "print(n.__str__())\n",
    "print(plea.__repr__())\n"
   ]
  },
  {
   "cell_type": "markdown",
   "metadata": {},
   "source": [
    "But that isn't really formatting where we want to get our output mixed with other text in a readable way.  The simplest way to do that is just use string slicing and concatenation."
   ]
  },
  {
   "cell_type": "code",
   "execution_count": 126,
   "metadata": {},
   "outputs": [
    {
     "name": "stdout",
     "output_type": "stream",
     "text": [
      "Time 1: call Phil at 773/989-7978 and offer him a job.\n"
     ]
    }
   ],
   "source": [
    "ph_number = '7739897978'\n",
    "n = 1\n",
    "\n",
    "print(\"Time \"+str(n)+\": call Phil at \"+ph_number[:3]+\"/\"+ph_number[3:6]+\n",
    "      \"-\"+ph_number[6:]+\" and offer him a job.\")\n"
   ]
  },
  {
   "cell_type": "markdown",
   "metadata": {},
   "source": [
    "This works, but does not convey the intent of the line (since any string could be in the ph_number variable), is hard to write (you have to count character positions) and is hard to read.\n",
    "\n",
    "To get around the hard-to-read problem we have he next method, % string formatting.  This also has the advantage that you can specify type conversions in the formatting rather than having to explicitly convert them in your command."
   ]
  },
  {
   "cell_type": "code",
   "execution_count": 127,
   "metadata": {},
   "outputs": [
    {
     "name": "stdout",
     "output_type": "stream",
     "text": [
      "Time 2: call Phil at 773/989-7978 and offer him a job.\n"
     ]
    }
   ],
   "source": [
    "n = 2\n",
    "\n",
    "print(\"Time %d: call Phil at %s/%s-%s and offer him a job.\" %\n",
    "       (n, ph_number[:3], ph_number[3:6], ph_number[6:]))\n"
   ]
  },
  {
   "cell_type": "markdown",
   "metadata": {},
   "source": [
    "A problem here is getting the arguments in the right order and making sure that there are the right number of arguments.  It is often hard, particularly with long format strings, to know where in the output the argument is going to end up.\n",
    "\n",
    "Something that can be done with % formatting, but that I don't see being done enough, is to pass a dictionary after the % instead of a tuple.  You decorate the format items in the string with the key name (in parentheses) and now you just have to make sure that all the keys in the format string are in the dictionary.  Getting them in order is no longer required.\n",
    "\n",
    "It could even look like mad-libs when you created a dictionary of substitutions and passed it into the format."
   ]
  },
  {
   "cell_type": "code",
   "execution_count": 128,
   "metadata": {
    "scrolled": true
   },
   "outputs": [
    {
     "name": "stdout",
     "output_type": "stream",
     "text": [
      "Time 003: call Phil at 773/989-7978 and offer him a job\n"
     ]
    }
   ],
   "source": [
    "print(\"Time %(n)03d: call %(name)s at %(area_code)s/\"\n",
    "      \"%(exchange)s-%(line)s and offer him a %(offer)s\" % \n",
    "      {\"n\":3,\n",
    "       \"area_code\":ph_number[:3],\n",
    "       \"exchange\":ph_number[3:6],\n",
    "       \"line\":ph_number[6:],\n",
    "       \"name\":\"Phil\",\n",
    "       \"offer\":\"job\"})\n"
   ]
  },
  {
   "cell_type": "markdown",
   "metadata": {},
   "source": [
    "\n",
    "The third way we had of formatting output in Python was the built-in `format()` method.  The built-in first appeared in Python 2.6 and, like the other built-ins worked by calling `__format__()`. This allowed more elaborate format options because `format` took two parameters, the object being formatted and a format specifier.  This allowed the creation of format strings that you could read and understand, and could control the presentation for things like leading zeroes. The format string passed to format can include position markers enclosed in curly braces.  "
   ]
  },
  {
   "cell_type": "code",
   "execution_count": 129,
   "metadata": {},
   "outputs": [
    {
     "name": "stdout",
     "output_type": "stream",
     "text": [
      "Time 004: call Phil at 773/989-7978 and offer him a job.\n"
     ]
    }
   ],
   "source": [
    "n = 4\n",
    "\n",
    "print(\"Time {0:03d}: call Phil at {1}/{2}-{3} and offer him a job.\".format(\n",
    "       n, ph_number[:3], ph_number[3:6], ph_number[6:]))\n"
   ]
  },
  {
   "cell_type": "markdown",
   "metadata": {},
   "source": [
    "And then in 2.7 the need to specify the need to specify the position number was dropped and you could just put in curly braces in order."
   ]
  },
  {
   "cell_type": "code",
   "execution_count": 130,
   "metadata": {},
   "outputs": [
    {
     "name": "stdout",
     "output_type": "stream",
     "text": [
      "Time 005: call Phil at 773/989-7978 and offer him a job.\n"
     ]
    }
   ],
   "source": [
    "n = 5\n",
    "\n",
    "print(\"Time {:03d}: call Phil at {}/{}-{} and offer him a job.\".format(\n",
    "       n, ph_number[:3], ph_number[3:6], ph_number[6:]))\n"
   ]
  },
  {
   "cell_type": "markdown",
   "metadata": {},
   "source": [
    "Having the `__format__()` method being called when an object was formatted made it possible to create custom formatters for classes. "
   ]
  },
  {
   "cell_type": "code",
   "execution_count": 131,
   "metadata": {},
   "outputs": [
    {
     "name": "stdout",
     "output_type": "stream",
     "text": [
      "Time 006: call Phil at 773/989-7978 and offer him a job.\n"
     ]
    }
   ],
   "source": [
    "class phone_no:\n",
    "    def __init__(self, num):\n",
    "        self.num = num\n",
    "    def __format__(self, fspec):\n",
    "        return \"{}/{}-{}\".format(self.num[:3], self.num[3:6], self.num[6:])\n",
    "\n",
    "my_phone = phone_no(ph_number)\n",
    "\n",
    "n = 6\n",
    "print(\"Time {:03d}: call Phil at {} and offer him a job.\".format(n, my_phone))\n"
   ]
  },
  {
   "cell_type": "markdown",
   "metadata": {},
   "source": [
    "Now we come to the innovations introduced in PEP 498 \"Formatted String Literals\" which has been implemented in the most recent stable release Python 3.6.\n",
    "\n",
    "In the previous `format()` you had the format string and you had the variables to put into the format.  In the new version of format you can put the variables right into the string and the parser figures out which variables are being referenced and creates a string that captures their value.\n",
    "\n",
    "To tell the parser that this string is to be parsed for format a new syntax element has been added, putting the letter \"f\" in front of the string."
   ]
  },
  {
   "cell_type": "code",
   "execution_count": 132,
   "metadata": {},
   "outputs": [
    {
     "name": "stdout",
     "output_type": "stream",
     "text": [
      "Time 007: call Phil at 773/989-7978 and offer him a job.\n"
     ]
    }
   ],
   "source": [
    "n = 7\n",
    "print(f\"Time {n:03d}: call Phil at {my_phone} and offer him a job.\")\n"
   ]
  },
  {
   "cell_type": "markdown",
   "metadata": {},
   "source": [
    "But since the parser is interpreting the string anyway, it is allowed to put an expression inside the `{}`'s instead of just a variable and the parser will parse the expression."
   ]
  },
  {
   "cell_type": "code",
   "execution_count": 133,
   "metadata": {},
   "outputs": [
    {
     "name": "stdout",
     "output_type": "stream",
     "text": [
      "Time 008: call Phil at 773/989-7978 and offer him a job.\n"
     ]
    }
   ],
   "source": [
    "n = 7\n",
    "print(f\"Time {n+1:03d}: call Phil at {my_phone} and offer him a job.\")\n"
   ]
  },
  {
   "cell_type": "markdown",
   "metadata": {},
   "source": [
    "The f-string (or \"formatted string\") is an object that can be passed around.  Once it is assigned it is just a string."
   ]
  },
  {
   "cell_type": "code",
   "execution_count": 134,
   "metadata": {},
   "outputs": [
    {
     "name": "stdout",
     "output_type": "stream",
     "text": [
      "<class 'str'>\n",
      "Time 009: call Phil at 773/989-7978 and offer him a job.\n"
     ]
    }
   ],
   "source": [
    "n = 8\n",
    "\n",
    "msg = f\"Time {n+1:03d}: call Phil at {my_phone} and offer him a job.\"\n",
    "print(type(msg))\n",
    "\n",
    "def print_plea(a_msg):\n",
    "    print(a_msg)\n",
    "\n",
    "print_plea(msg)\n"
   ]
  },
  {
   "cell_type": "markdown",
   "metadata": {},
   "source": [
    "Now there is no limitation on the expression that can be between the curly braces, only that it must be a valid Python expression - so no assignments allowed, no compounds of multiple statements, the usual limitations.  But we can get quite creative with lambda's, function calls, etc.  A limitation is that a backslash escape character (such as newline's `\\n`) is not allowed in the f-string.  This limitation is easily avoided."
   ]
  },
  {
   "cell_type": "code",
   "execution_count": 135,
   "metadata": {},
   "outputs": [
    {
     "name": "stdout",
     "output_type": "stream",
     "text": [
      "Downtown the Red Line subway stops at 3 stops:\n",
      " * Washington\n",
      " * Madison\n",
      " * Jackson\n"
     ]
    }
   ],
   "source": [
    "downtown_redline = [ \"Washington\", \"Madison\", \"Jackson\" ]\n",
    "lf = '\\n'\n",
    "print(f'Downtown the Red Line subway stops at {len(downtown_redline)} stops:' '\\n'\n",
    "      f'{lf.join([\" * \" + stop for stop in downtown_redline])}')\n"
   ]
  },
  {
   "cell_type": "markdown",
   "metadata": {},
   "source": [
    "A limitation on lambdas is that when used within f-strings they must be within parens."
   ]
  },
  {
   "cell_type": "code",
   "execution_count": 136,
   "metadata": {},
   "outputs": [
    {
     "data": {
      "text/plain": [
       "'Three squared is 9'"
      ]
     },
     "execution_count": 136,
     "metadata": {},
     "output_type": "execute_result"
    }
   ],
   "source": [
    "f'Three squared is {(lambda x: x*x)(3)}'\n"
   ]
  },
  {
   "cell_type": "markdown",
   "metadata": {},
   "source": [
    "It is my opinion that lambdas in Python are somewhat problematic today, now that Python has internal functions.  A function is not limited to a single expression and its name provides documentation that is missing when a lambda is used."
   ]
  },
  {
   "cell_type": "code",
   "execution_count": 137,
   "metadata": {},
   "outputs": [
    {
     "name": "stdout",
     "output_type": "stream",
     "text": [
      "3 squared is 9\n",
      "45,467,040 squared is 2,067,251,726,361,600\n"
     ]
    }
   ],
   "source": [
    "def get_sq(x):\n",
    "    def sq(x): return x*x\n",
    "    print( f'{x:,} squared is {sq(x):,}')\n",
    "    \n",
    "get_sq(3)\n",
    "get_sq(45466356 + 684)\n"
   ]
  },
  {
   "cell_type": "markdown",
   "metadata": {},
   "source": [
    "The format specifier is a string that is separated from the value expression by a colon.  Their meaning depends upon the type of the expression. Format specificiers can themselves have formatted expressions inside them"
   ]
  },
  {
   "cell_type": "code",
   "execution_count": 138,
   "metadata": {},
   "outputs": [
    {
     "name": "stdout",
     "output_type": "stream",
     "text": [
      "result:      12.35\n"
     ]
    }
   ],
   "source": [
    "import decimal\n",
    "\n",
    "width = 10\n",
    "precision = 4\n",
    "value = decimal.Decimal('12.34567')\n",
    "print(f'result: {value:{width}.{precision}}')\n"
   ]
  },
  {
   "cell_type": "markdown",
   "metadata": {},
   "source": [
    "The f-string is executed when it is reached in the normal flow of the program and is evaluated based on the variables that are visible at the time to f-string is executed.  If you want to create an f-string that is passed around and instantiated multiple times you can `exec` the string.  To access the value after the exec the result must be assigned to a field in a mutable data structure."
   ]
  },
  {
   "cell_type": "code",
   "execution_count": 197,
   "metadata": {},
   "outputs": [
    {
     "name": "stdout",
     "output_type": "stream",
     "text": [
      "The value of A is 3.\n",
      "The value of A is a string this time.\n"
     ]
    }
   ],
   "source": [
    "static_f_string = \"f'The value of A is {A}.'\"\n",
    "\n",
    "def do_something(A, f_string):\n",
    "    s=[]  # a mutable data structure that exec will change\n",
    "    s.append('init value')\n",
    "    # Bad, bad code: use of variable A is totally hidden\n",
    "    exec(f's[0] = {f_string}')\n",
    "    print(s[0])\n",
    "    \n",
    "do_something(3, static_f_string)\n",
    "do_something('a string this time', static_f_string)\n"
   ]
  },
  {
   "cell_type": "markdown",
   "metadata": {},
   "source": [
    "Another way to achieve a formatting with variable intent is to use classical % operator formatting but applying it to an f-string that first gets formatted into something with the `%(var)s` place holders.  Note that this works but is not readable code: NOT RECOMMENDED. "
   ]
  },
  {
   "cell_type": "code",
   "execution_count": 140,
   "metadata": {
    "scrolled": true
   },
   "outputs": [
    {
     "name": "stdout",
     "output_type": "stream",
     "text": [
      "We were evicted from *our* hole in the ground; we had to go and live in a lake!\n"
     ]
    }
   ],
   "source": [
    "# checking what happens when you combine f-strings with % formatting\n",
    "def test(place2):\n",
    "    place1 = 'hole in the ground'\n",
    "    print(f'We were evicted from *our* {place1}; ' +\n",
    "          'we had to go and live in %(place2)s!' % \n",
    "          {'place2':place2})\n",
    "    \n",
    "test('a lake')"
   ]
  },
  {
   "cell_type": "markdown",
   "metadata": {},
   "source": [
    "Let's take a look at the `format_spec` element.\n",
    "\n",
    "The `format_spec` element comes afer a colon within the field.  The element adds additional information about how the variable is to be displayed in the output string.  In formatting an integer you can specify if commas or underscores are used in decimal representations and whether underscores should be added to hex displays.  In formatting a floating point number the `format_spec` can say how wide the field is to be, if leading zero's are to be displayed, or how many decimal places are to be displayed.  For a string the field width can be specified.  But if you specify a width too small to hold the string the width is ignored.  If you specify a negative width for a string you get a `ValueError` exception.\n"
   ]
  },
  {
   "cell_type": "code",
   "execution_count": 200,
   "metadata": {},
   "outputs": [
    {
     "name": "stdout",
     "output_type": "stream",
     "text": [
      "1823249552      A number with no formatting\n",
      "1_823_249_552   With underscores every three digits (new in 3.6)\n",
      "1,823,249,552   Change the underscores to commas\n",
      "001,823,249,552 Commas in the number, field width 15, leading 0's\n",
      "6cac9490        Format the number as hex digits\n",
      "6cac_9490       With underscores every 4 hex digits (new in 3.6)\n",
      "6cac 9490       Change underscore to space as in hex dumps\n"
     ]
    }
   ],
   "source": [
    "my_int = id(None)\n",
    "print(f'{my_int}      A number with no formatting')\n",
    "print(f'{my_int:_}   With underscores every three digits (new in 3.6)')\n",
    "print(f'{my_int:,}   Change the underscores to commas')\n",
    "print(f'{my_int:015,} Commas in the number, field width 15, leading 0\\'s')\n",
    "print(f'{my_int:x}        Format the number as hex digits')\n",
    "print(f'{my_int:_x}       With underscores every 4 hex digits (new in 3.6)')\n",
    "print(f'{my_int:_x}'.replace('_',' ') + '       Change underscore to space as in hex dumps')"
   ]
  },
  {
   "cell_type": "code",
   "execution_count": 141,
   "metadata": {},
   "outputs": [
    {
     "name": "stdout",
     "output_type": "stream",
     "text": [
      "5.666666666666667 - a float without format specified\n",
      "+005.67 - a float with format +07.3\n",
      "\n",
      "A string - a string without format specified\n",
      "A string             - a string with format \"20\" specified\n",
      "A string - a string with format \"5\" specified\n"
     ]
    },
    {
     "ename": "ValueError",
     "evalue": "Sign not allowed in string format specifier",
     "output_type": "error",
     "traceback": [
      "\u001b[1;31m---------------------------------------------------------------------------\u001b[0m",
      "\u001b[1;31mValueError\u001b[0m                                Traceback (most recent call last)",
      "\u001b[1;32m<ipython-input-141-e2dd9fea90de>\u001b[0m in \u001b[0;36m<module>\u001b[1;34m()\u001b[0m\n\u001b[0;32m      8\u001b[0m \u001b[0mprint\u001b[0m\u001b[1;33m(\u001b[0m\u001b[1;34mf'{a_string:20} - a string with format \"20\" specified'\u001b[0m\u001b[1;33m)\u001b[0m\u001b[1;33m\u001b[0m\u001b[0m\n\u001b[0;32m      9\u001b[0m \u001b[0mprint\u001b[0m\u001b[1;33m(\u001b[0m\u001b[1;34mf'{a_string:5} - a string with format \"5\" specified'\u001b[0m\u001b[1;33m)\u001b[0m\u001b[1;33m\u001b[0m\u001b[0m\n\u001b[1;32m---> 10\u001b[1;33m \u001b[0mprint\u001b[0m\u001b[1;33m(\u001b[0m\u001b[1;34mf'{a_string:-20} - a string with format \"-20\" specified'\u001b[0m\u001b[1;33m)\u001b[0m \u001b[1;31m# this raises an exception\u001b[0m\u001b[1;33m\u001b[0m\u001b[0m\n\u001b[0m",
      "\u001b[1;31mValueError\u001b[0m: Sign not allowed in string format specifier"
     ]
    }
   ],
   "source": [
    "a_float = 17/3\n",
    "print(f'{a_float} - a float without format specified')\n",
    "print(f'{a_float:+07.3} - a float with format +07.3')\n",
    "print()\n",
    "\n",
    "a_string = 'A string'\n",
    "print(f'{a_string} - a string without format specified')\n",
    "print(f'{a_string:20} - a string with format \"20\" specified')\n",
    "print(f'{a_string:5} - a string with format \"5\" specified')\n",
    "print(f'{a_string:-20} - a string with format \"-20\" specified') # this raises an exception\n"
   ]
  },
  {
   "cell_type": "markdown",
   "metadata": {},
   "source": [
    "So the interpretation of the format spec is up to the `__format__` method of the class that the variable is a member of.  So if we want we can extend a class by specifying a `__format__` that adds extra capabilities.  So here I am adding the ability to hide characters that exceed the specified width, and right specify a string with a negative width."
   ]
  },
  {
   "cell_type": "code",
   "execution_count": null,
   "metadata": {},
   "outputs": [],
   "source": [
    "import re\n",
    "\n",
    "class my_str(str):\n",
    "    def __init__(self, value):\n",
    "        super(str, value)\n",
    "    def __format__(self, f_spec):\n",
    "        def shorten(f_spec, right_adj):\n",
    "            width = int(f_spec)\n",
    "            length = len(self.__str__())\n",
    "            if width < length:\n",
    "                if right_adj:\n",
    "                    # right adjust and shorter, show end of string\n",
    "                    return f'{self.__str__()[(length-width):]}'\n",
    "                else:\n",
    "                    # left adjust and shorter, show start of string\n",
    "                    return f'{self.__str__()[:width]}'\n",
    "            elif right_adj:\n",
    "                # right adjust and longer, add (width - length) spaces to left\n",
    "                pad = (width - length) * ' '\n",
    "                return f'{pad+self.__str__()}'\n",
    "            else:\n",
    "                # left adjust and longer, user parent obj's formatting\n",
    "                return f'{self.__str__():{f_spec}}'\n",
    "        if f_spec is '':\n",
    "            # no format spec, user parent obj's formatting\n",
    "            return f'{self.__str__()}'\n",
    "        if re.match('[+]?\\d+', f_spec):\n",
    "            # left adjust, possibly shorten\n",
    "            return shorten(f_spec, False)\n",
    "        if re.match('-\\d+', f_spec):\n",
    "            # right adjust, possibly lengthen\n",
    "            return shorten(f_spec[1:], True)\n",
    "        # unrecognized spec\n",
    "        raise ValueError( 'format specification must be a '\n",
    "                         f'(optionally signed) integer, got \"{f_spec}\"')\n",
    "\n",
    "a_string = my_str('A string')\n",
    "print(f'{a_string} - my string without format specified')\n",
    "# note nesting of f-strings in next line which makes an int expression into a string f-spec\n",
    "print(f'{a_string:{len(a_string)}} - my string with format length same as string length')\n",
    "print(f'{a_string:5} - my string with format \"5\" specified')\n",
    "print(f'{a_string:-5} - my string with format \"-5\" specified')\n",
    "print(f'{a_string:20} - my string with format \"20\" specified')\n",
    "print(f'{a_string:-20} - my string with format \"-20\" specified')\n",
    "print(f'{a_string:?20} - my string with format \"?20\" specified') # this one throws an error\n"
   ]
  },
  {
   "cell_type": "markdown",
   "metadata": {},
   "source": [
    "So the interpretation of format specification is totally up to the class being formatted.  This opens up all sorts of potential for misuse of the specification feature, allowing obfuscation and side effects. For instance I can pass a JSON string in as a format specification.\n",
    "\n",
    "Consider the following code that applies a dictionary to a template:"
   ]
  },
  {
   "cell_type": "code",
   "execution_count": null,
   "metadata": {},
   "outputs": [],
   "source": [
    "# 'classic' formatting with a dictionary.  Relatively straight-forward and readable\n",
    "data_dict ={\"my_class\": \"my_header\",\n",
    "            \"my_id\":\"my_header1\",\n",
    "            \"text\": \"What is your favorite colour?\"}\n",
    "template = '<h1 class=\"%(my_class)s\" id=\"%(my_id)s\">%(text)s</h1>'\n",
    "print(template % data_dict)\n"
   ]
  },
  {
   "cell_type": "markdown",
   "metadata": {},
   "source": [
    "The application of the dictionary to the template could be moved inside the formatting for a class and the dictionary can be passed into the format as a JSON object since JSON is a string format and strings can be format specifications.\n",
    "\n",
    "I would not consider the following to be pythonic."
   ]
  },
  {
   "cell_type": "code",
   "execution_count": null,
   "metadata": {},
   "outputs": [],
   "source": [
    "# using a class with a __format__ to instantiate HTML templates\n",
    "# This does NOT get past code review!\n",
    "import json\n",
    "\n",
    "class html_maker:\n",
    "    def __init__(self, template):\n",
    "        self.template = template\n",
    "    def __format__(self, spec):\n",
    "        if spec:\n",
    "            return (f'{self.template}' % json.loads(spec))\n",
    "        else:\n",
    "            return f'{self.template}'\n",
    "\n",
    "# a template that takes no arguments\n",
    "br_maker = html_maker(\"<br>\")\n",
    "print(f'{br_maker}')\n",
    "\n",
    "# template and data_dict as assigned in code cell above\n",
    "header_maker = html_maker(template)\n",
    "print(f'{header_maker:{json.dumps(data_dict)} }')\n"
   ]
  },
  {
   "cell_type": "markdown",
   "metadata": {},
   "source": [
    "Since f-string formatting is applied to the formatted template in the above example the template does not have to be a string, just something that returns a string upon formatting. We can create an object that adds pointy braces to the template and makes unique IDs and assign classes.  Because we can - not because it makes good code!\n",
    "\n",
    "(Please, use jinja templates.  The code below reminds me of the worst aspects of writing XML.)"
   ]
  },
  {
   "cell_type": "code",
   "execution_count": 189,
   "metadata": {},
   "outputs": [
    {
     "name": "stdout",
     "output_type": "stream",
     "text": [
      "<div class=\"my_div\" id=\"div1\"><h1 class=\"my_h1\" id=\"h11\">Do you have any Stilton?</h1><br><p class=\"my_p\" id=\"p1\">The <i class=\"my_i\" id=\"i1\">Cheese Shop</i> skit ...</p></div>\n"
     ]
    }
   ],
   "source": [
    "from collections import Counter\n",
    "# uses html_maker class and br_maker object from previous code cell\n",
    "\n",
    "tag_counter = Counter()\n",
    "\n",
    "class template_maker:\n",
    "    def __init__(self, html_tag, contents):\n",
    "        global tag_counter\n",
    "        tag_counter[html_tag] += 1\n",
    "        self.id = tag_counter[html_tag]\n",
    "        self.html_tag = html_tag\n",
    "        self.contents = contents\n",
    "    def _get_data_dict(self):\n",
    "        return {\"inside\":self.contents}\n",
    "    def __format__(self, json_spec):\n",
    "        # a template for our generic tag\n",
    "        self.template = html_maker(f'<{self.html_tag} class=\"my_{self.html_tag}\" '\n",
    "                         f'id=\"{self.html_tag}{self.id}\">'+'%(inside)s'+f'</{self.html_tag}>')\n",
    "        # if we got some JSON in use it as the dictionary for formatting\n",
    "        if json_spec:\n",
    "            form = f'{self.template}'\n",
    "            d = json.loads(json_spec)\n",
    "            return (form % d)\n",
    "        # no JSON, use the contents passed in at object creation\n",
    "        else:\n",
    "            #return f'{self.template}'\n",
    "            form = f'{self.template}'\n",
    "            d = self._get_data_dict()\n",
    "            return (form % d)\n",
    "\n",
    "heading1 = template_maker('h1','Do you have any Stilton?')\n",
    "para1 = template_maker('p', f'The {template_maker(\"i\", \"Cheese Shop\")} skit ...')\n",
    "div1 = template_maker('div', f'{heading1}{br_maker}{para1}')\n",
    "print(f'{div1}')"
   ]
  },
  {
   "cell_type": "markdown",
   "metadata": {},
   "source": [
    "The full BNF definition of the f-string, as given in the Python documentation, is:\n",
    "\n",
    "    f_string          ::=  (literal_char | \"{{\" | \"}}\" | replacement_field)\\*\n",
    "    replacement_field ::=  \"{\" f_expression [\"!\" conversion] [\":\" format_spec] \"}\"\n",
    "    f_expression      ::=  (conditional_expression | \"*\" or_expr)\n",
    "                             (\",\" conditional_expression | \",\" \"*\" or_expr)* [\",\"]\n",
    "                           | yield_expression\n",
    "    conversion        ::=  \"s\" | \"r\" | \"a\"\n",
    "    format_spec       ::=  (literal_char | NULL | replacement_field)\\*\n",
    "    literal_char      ::=  \\<any code point except \"{\", \"}\" or NULL>\n",
    "    \n",
    "Something that I have not yet successfully played with is where it indicates that a `yield_expression` is allowed within the `f_expression`.  That has powerful implications for future code abuse.\n"
   ]
  },
  {
   "cell_type": "markdown",
   "metadata": {},
   "source": [
    "There is no discussion of yield expressions in the official documentation of f-strings or in the PEP that defined them (other than in the BNF above). The simple example below does not work."
   ]
  },
  {
   "cell_type": "code",
   "execution_count": 196,
   "metadata": {},
   "outputs": [
    {
     "ename": "SyntaxError",
     "evalue": "'yield' outside function (<ipython-input-196-550cd1ca71a4>, line 1)",
     "output_type": "error",
     "traceback": [
      "\u001b[1;36m  File \u001b[1;32m\"<ipython-input-196-550cd1ca71a4>\"\u001b[1;36m, line \u001b[1;32m1\u001b[0m\n\u001b[1;33m    g = f'{yield \"a\"}'\u001b[0m\n\u001b[1;37m          ^\u001b[0m\n\u001b[1;31mSyntaxError\u001b[0m\u001b[1;31m:\u001b[0m 'yield' outside function\n"
     ]
    }
   ],
   "source": [
    "g = f'{yield \"a\"}'\n",
    "for var in f'{g}':\n",
    "    print(f'We get back \"{var}\"')"
   ]
  },
  {
   "cell_type": "markdown",
   "metadata": {},
   "source": [
    "Although I think the above should work like the below:"
   ]
  },
  {
   "cell_type": "code",
   "execution_count": 195,
   "metadata": {},
   "outputs": [
    {
     "name": "stdout",
     "output_type": "stream",
     "text": [
      "We get back \"a\"\n"
     ]
    }
   ],
   "source": [
    "def g():\n",
    "    yield \"a\"\n",
    "\n",
    "for var in g():\n",
    "    print(f'We get back \"{var}\"')"
   ]
  }
 ],
 "metadata": {
  "kernelspec": {
   "display_name": "Python 3",
   "language": "python",
   "name": "python3"
  },
  "language_info": {
   "codemirror_mode": {
    "name": "ipython",
    "version": 3
   },
   "file_extension": ".py",
   "mimetype": "text/x-python",
   "name": "python",
   "nbconvert_exporter": "python",
   "pygments_lexer": "ipython3",
   "version": "3.6.3"
  }
 },
 "nbformat": 4,
 "nbformat_minor": 2
}
